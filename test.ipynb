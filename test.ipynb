{
 "cells": [
  {
   "cell_type": "code",
   "execution_count": 1,
   "metadata": {},
   "outputs": [],
   "source": [
    "import numpy as np\n",
    "import pandas as pd\n",
    "from sklearn.feature_extraction.text import TfidfVectorizer\n",
    "from sklearn.pipeline import Pipeline, FeatureUnion\n",
    "from sklearn.ensemble import RandomForestClassifier\n",
    "from sklearn.preprocessing import FunctionTransformer\n",
    "from sklearn.model_selection import GridSearchCV, StratifiedKFold\n"
   ]
  },
  {
   "cell_type": "code",
   "execution_count": 23,
   "metadata": {},
   "outputs": [],
   "source": [
    "\n",
    "# Create Function Transformer to use Feature Union\n",
    "data = pd.read_csv('static/Womens_Clothing_E-Commerce_Reviews.csv')\n",
    "\n",
    "# print(data.head()) \n",
    "\n",
    "def get_numeric_data(data):\n",
    "    return [data['Age', 'Rating', 'Positive Feedback Count'].astype(float)]\n",
    "\n",
    "def get_text_data(data):\n",
    "    return [data['Review Text']]\n",
    "\n",
    "transfomer_numeric = FunctionTransformer(get_numeric_data)\n",
    "transformer_text = FunctionTransformer(get_text_data)"
   ]
  },
  {
   "cell_type": "code",
   "execution_count": 24,
   "metadata": {},
   "outputs": [],
   "source": [
    "# Create a pipeline to concatenate Tfidf Vector and Numeric data\n",
    "# Use RandomForestClassifier as an example\n",
    "pipeline = Pipeline([\n",
    "    ('features', FeatureUnion([\n",
    "            ('numeric_features', Pipeline([\n",
    "                ('selector', transfomer_numeric)\n",
    "            ])),\n",
    "             ('text_features', Pipeline([\n",
    "                ('selector', transformer_text),\n",
    "                ('vec', TfidfVectorizer(analyzer='word'))\n",
    "            ]))\n",
    "         ])),\n",
    "    ('clf', RandomForestClassifier())\n",
    "])\n",
    "\n",
    "# Grid Search Parameters for RandomForest\n",
    "param_grid = {'clf__n_estimators': np.linspace(1, 100, 10, dtype=int),\n",
    "              'clf__min_samples_split': [3, 10],\n",
    "              'clf__min_samples_leaf': [3],\n",
    "              'clf__max_features': [7],\n",
    "              'clf__max_depth': [None],\n",
    "              'clf__criterion': ['gini'],\n",
    "              'clf__bootstrap': [False]}\n",
    "\n",
    "# Training config\n",
    "kfold = StratifiedKFold(n_splits=7)\n",
    "scoring = {'Accuracy': 'accuracy', 'F1': 'f1_macro'}\n",
    "refit = 'F1'\n"
   ]
  },
  {
   "cell_type": "code",
   "execution_count": null,
   "metadata": {},
   "outputs": [],
   "source": [
    "# Perform GridSearch\n",
    "rf_model = GridSearchCV(pipeline, param_grid=param_grid, cv=kfold, scoring=scoring, \n",
    "                         refit=refit, n_jobs=-1, return_train_score=True, verbose=1)\n",
    "rf_model.fit(X_train, Y_train)\n",
    "rf_best = rf_model.best_estimator_"
   ]
  }
 ],
 "metadata": {
  "kernelspec": {
   "display_name": "envv",
   "language": "python",
   "name": "python3"
  },
  "language_info": {
   "codemirror_mode": {
    "name": "ipython",
    "version": 3
   },
   "file_extension": ".py",
   "mimetype": "text/x-python",
   "name": "python",
   "nbconvert_exporter": "python",
   "pygments_lexer": "ipython3",
   "version": "3.10.10"
  },
  "orig_nbformat": 4
 },
 "nbformat": 4,
 "nbformat_minor": 2
}
